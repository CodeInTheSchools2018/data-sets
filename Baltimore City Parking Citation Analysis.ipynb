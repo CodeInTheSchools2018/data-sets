{
 "cells": [
  {
   "cell_type": "markdown",
   "metadata": {},
   "source": [
    "Here, we'll look at Baltimore City parking citation data to work through some graphs with seaborn "
   ]
  },
  {
   "cell_type": "code",
   "execution_count": 1,
   "metadata": {},
   "outputs": [],
   "source": [
    "import numpy as np #import numpy for data analysis\n",
    "import pandas as pd #import pandas for data analysis\n",
    "import seaborn as sns #import seaborn for graphs\n",
    "import matplotlib.pyplot as plt #import matplotlib to graph\n",
    "%matplotlib inline #so that our graphs show up automatically"
   ]
  },
  {
   "cell_type": "markdown",
   "metadata": {},
   "source": [
    "In order to do any data analysis, we need to import our dataset and create a __dataframe__. Our dataset is in a CSV (comma separated value) format that can look like an Excel spreadsheet. We use pandas (imported above) to upload our dataset (originally downloaded from https://data.baltimorecity.gov/Transportation/Parking-Citations/n4ma-fj3m/data ):"
   ]
  },
  {
   "cell_type": "code",
   "execution_count": 2,
   "metadata": {},
   "outputs": [],
   "source": [
    "#import parking citation dataset and create a dataframe\n",
    "#download the CSV file from the link above\n",
    "#make sure to change the file pathname to the file pathname on your computer\n",
    "\n",
    "df= pd.read_csv('/Users/melanieshimano/Desktop/Parking_Citations.csv', low_memory=False)"
   ]
  },
  {
   "cell_type": "code",
   "execution_count": 3,
   "metadata": {},
   "outputs": [
    {
     "data": {
      "text/html": [
       "<div>\n",
       "<style>\n",
       "    .dataframe thead tr:only-child th {\n",
       "        text-align: right;\n",
       "    }\n",
       "\n",
       "    .dataframe thead th {\n",
       "        text-align: left;\n",
       "    }\n",
       "\n",
       "    .dataframe tbody tr th {\n",
       "        vertical-align: top;\n",
       "    }\n",
       "</style>\n",
       "<table border=\"1\" class=\"dataframe\">\n",
       "  <thead>\n",
       "    <tr style=\"text-align: right;\">\n",
       "      <th></th>\n",
       "      <th>Citation</th>\n",
       "      <th>Tag</th>\n",
       "      <th>ExpMM</th>\n",
       "      <th>ExpYY</th>\n",
       "      <th>State</th>\n",
       "      <th>Make</th>\n",
       "      <th>Address</th>\n",
       "      <th>ViolCode</th>\n",
       "      <th>Description</th>\n",
       "      <th>ViolFine</th>\n",
       "      <th>...</th>\n",
       "      <th>Balance</th>\n",
       "      <th>PenaltyDate</th>\n",
       "      <th>OpenFine</th>\n",
       "      <th>OpenPenalty</th>\n",
       "      <th>NoticeDate</th>\n",
       "      <th>ImportDate</th>\n",
       "      <th>Neighborhood</th>\n",
       "      <th>PoliceDistrict</th>\n",
       "      <th>CouncilDistrict</th>\n",
       "      <th>Location</th>\n",
       "    </tr>\n",
       "  </thead>\n",
       "  <tbody>\n",
       "    <tr>\n",
       "      <th>0</th>\n",
       "      <td>85448272</td>\n",
       "      <td>3AC8183</td>\n",
       "      <td>02</td>\n",
       "      <td>13.0</td>\n",
       "      <td>MD</td>\n",
       "      <td>CADI</td>\n",
       "      <td>6100 BLOCK OF OLD HARFORD RD.</td>\n",
       "      <td>33</td>\n",
       "      <td>Mobile Speed Camera</td>\n",
       "      <td>$40.00</td>\n",
       "      <td>...</td>\n",
       "      <td>$40.00</td>\n",
       "      <td>NaN</td>\n",
       "      <td>$40.00</td>\n",
       "      <td>$0.00</td>\n",
       "      <td>04/20/2011</td>\n",
       "      <td>05/07/2013 10:41:00 AM</td>\n",
       "      <td>NaN</td>\n",
       "      <td>NaN</td>\n",
       "      <td>NaN</td>\n",
       "      <td>6100 BLOCK OF OLD HARFORD RD\\nBaltimore, MD\\n(...</td>\n",
       "    </tr>\n",
       "    <tr>\n",
       "      <th>1</th>\n",
       "      <td>85444719</td>\n",
       "      <td>8AB6128</td>\n",
       "      <td>09</td>\n",
       "      <td>12.0</td>\n",
       "      <td>MD</td>\n",
       "      <td>ACUR</td>\n",
       "      <td>4200 SINCLAIR LANE W/B</td>\n",
       "      <td>32</td>\n",
       "      <td>Fixed Speed Camera</td>\n",
       "      <td>$40.00</td>\n",
       "      <td>...</td>\n",
       "      <td>$40.00</td>\n",
       "      <td>NaN</td>\n",
       "      <td>$40.00</td>\n",
       "      <td>$0.00</td>\n",
       "      <td>04/20/2011</td>\n",
       "      <td>05/07/2013 10:41:00 AM</td>\n",
       "      <td>NaN</td>\n",
       "      <td>NaN</td>\n",
       "      <td>NaN</td>\n",
       "      <td>4200 SINCLAIR LANE W\\nB Baltimore, MD\\n(39.316...</td>\n",
       "    </tr>\n",
       "    <tr>\n",
       "      <th>2</th>\n",
       "      <td>85452209</td>\n",
       "      <td>7EHC21</td>\n",
       "      <td>07</td>\n",
       "      <td>11.0</td>\n",
       "      <td>MD</td>\n",
       "      <td>BUIC</td>\n",
       "      <td>4601 LIBERTY HEIGHTS AVE E/B</td>\n",
       "      <td>32</td>\n",
       "      <td>Fixed Speed Camera</td>\n",
       "      <td>$40.00</td>\n",
       "      <td>...</td>\n",
       "      <td>$40.00</td>\n",
       "      <td>NaN</td>\n",
       "      <td>$40.00</td>\n",
       "      <td>$0.00</td>\n",
       "      <td>04/20/2011</td>\n",
       "      <td>05/07/2013 10:41:00 AM</td>\n",
       "      <td>NaN</td>\n",
       "      <td>NaN</td>\n",
       "      <td>NaN</td>\n",
       "      <td>4601 LIBERTY HEIGHTS AVE E\\nB Baltimore, MD\\n(...</td>\n",
       "    </tr>\n",
       "    <tr>\n",
       "      <th>3</th>\n",
       "      <td>85387397</td>\n",
       "      <td>8AC2640</td>\n",
       "      <td>12</td>\n",
       "      <td>12.0</td>\n",
       "      <td>MD</td>\n",
       "      <td>OLDS</td>\n",
       "      <td>6200 WALTHER AVE N/B</td>\n",
       "      <td>32</td>\n",
       "      <td>Fixed Speed Camera</td>\n",
       "      <td>$40.00</td>\n",
       "      <td>...</td>\n",
       "      <td>$65.00</td>\n",
       "      <td>NaN</td>\n",
       "      <td>$40.00</td>\n",
       "      <td>$25.00</td>\n",
       "      <td>04/20/2011</td>\n",
       "      <td>05/07/2013 10:41:00 AM</td>\n",
       "      <td>NaN</td>\n",
       "      <td>NaN</td>\n",
       "      <td>NaN</td>\n",
       "      <td>6200 WALTHER AVE N\\nB Baltimore, MD\\n(39.35130...</td>\n",
       "    </tr>\n",
       "    <tr>\n",
       "      <th>4</th>\n",
       "      <td>85397289</td>\n",
       "      <td>06500TT</td>\n",
       "      <td>10</td>\n",
       "      <td>11.0</td>\n",
       "      <td>MD</td>\n",
       "      <td>INTL</td>\n",
       "      <td>4862 ERDMAN AVE W/B</td>\n",
       "      <td>32</td>\n",
       "      <td>Fixed Speed Camera</td>\n",
       "      <td>$40.00</td>\n",
       "      <td>...</td>\n",
       "      <td>$65.00</td>\n",
       "      <td>NaN</td>\n",
       "      <td>$40.00</td>\n",
       "      <td>$25.00</td>\n",
       "      <td>04/20/2011</td>\n",
       "      <td>05/07/2013 10:41:00 AM</td>\n",
       "      <td>NaN</td>\n",
       "      <td>NaN</td>\n",
       "      <td>NaN</td>\n",
       "      <td>4862 ERDMAN AVE W\\nB Baltimore, MD\\n(39.307075...</td>\n",
       "    </tr>\n",
       "    <tr>\n",
       "      <th>5</th>\n",
       "      <td>85395333</td>\n",
       "      <td>1FGT79</td>\n",
       "      <td>07</td>\n",
       "      <td>11.0</td>\n",
       "      <td>MD</td>\n",
       "      <td>FORD</td>\n",
       "      <td>5400 PERRING PKWY S/B</td>\n",
       "      <td>32</td>\n",
       "      <td>Fixed Speed Camera</td>\n",
       "      <td>$40.00</td>\n",
       "      <td>...</td>\n",
       "      <td>$40.00</td>\n",
       "      <td>NaN</td>\n",
       "      <td>$40.00</td>\n",
       "      <td>$0.00</td>\n",
       "      <td>04/13/2011</td>\n",
       "      <td>05/07/2013 10:41:00 AM</td>\n",
       "      <td>NaN</td>\n",
       "      <td>NaN</td>\n",
       "      <td>NaN</td>\n",
       "      <td>5400 PERRING PKWY S\\nB Baltimore, MD\\n(39.3539...</td>\n",
       "    </tr>\n",
       "    <tr>\n",
       "      <th>6</th>\n",
       "      <td>85427425</td>\n",
       "      <td>6AA3639</td>\n",
       "      <td>08</td>\n",
       "      <td>12.0</td>\n",
       "      <td>MD</td>\n",
       "      <td>FORD</td>\n",
       "      <td>2900 ORLEANS ST. E/B</td>\n",
       "      <td>32</td>\n",
       "      <td>Fixed Speed Camera</td>\n",
       "      <td>$40.00</td>\n",
       "      <td>...</td>\n",
       "      <td>$40.00</td>\n",
       "      <td>NaN</td>\n",
       "      <td>$40.00</td>\n",
       "      <td>$0.00</td>\n",
       "      <td>04/20/2011</td>\n",
       "      <td>05/07/2013 10:41:00 AM</td>\n",
       "      <td>NaN</td>\n",
       "      <td>NaN</td>\n",
       "      <td>NaN</td>\n",
       "      <td>2900 ORLEANS ST E\\nB Baltimore, MD\\n(39.295874...</td>\n",
       "    </tr>\n",
       "    <tr>\n",
       "      <th>7</th>\n",
       "      <td>85408532</td>\n",
       "      <td>2ELH79</td>\n",
       "      <td>10</td>\n",
       "      <td>12.0</td>\n",
       "      <td>MD</td>\n",
       "      <td>HOND</td>\n",
       "      <td>3600 NORTHERN PARKWAY W/B</td>\n",
       "      <td>32</td>\n",
       "      <td>Fixed Speed Camera</td>\n",
       "      <td>$40.00</td>\n",
       "      <td>...</td>\n",
       "      <td>$65.00</td>\n",
       "      <td>NaN</td>\n",
       "      <td>$40.00</td>\n",
       "      <td>$25.00</td>\n",
       "      <td>04/20/2011</td>\n",
       "      <td>05/07/2013 10:41:00 AM</td>\n",
       "      <td>NaN</td>\n",
       "      <td>NaN</td>\n",
       "      <td>NaN</td>\n",
       "      <td>3600 NORTHERN PARKWAY W\\nB Baltimore, MD\\n(39....</td>\n",
       "    </tr>\n",
       "    <tr>\n",
       "      <th>8</th>\n",
       "      <td>85423218</td>\n",
       "      <td>7AA0320</td>\n",
       "      <td>07</td>\n",
       "      <td>12.0</td>\n",
       "      <td>MD</td>\n",
       "      <td>TOYT</td>\n",
       "      <td>2900 ORLEANS ST. E/B</td>\n",
       "      <td>32</td>\n",
       "      <td>Fixed Speed Camera</td>\n",
       "      <td>$40.00</td>\n",
       "      <td>...</td>\n",
       "      <td>$40.00</td>\n",
       "      <td>NaN</td>\n",
       "      <td>$40.00</td>\n",
       "      <td>$0.00</td>\n",
       "      <td>04/20/2011</td>\n",
       "      <td>05/07/2013 10:41:00 AM</td>\n",
       "      <td>NaN</td>\n",
       "      <td>NaN</td>\n",
       "      <td>NaN</td>\n",
       "      <td>2900 ORLEANS ST E\\nB Baltimore, MD\\n(39.295874...</td>\n",
       "    </tr>\n",
       "    <tr>\n",
       "      <th>9</th>\n",
       "      <td>85365674</td>\n",
       "      <td>8FMN05</td>\n",
       "      <td>07</td>\n",
       "      <td>12.0</td>\n",
       "      <td>MD</td>\n",
       "      <td>TOYT</td>\n",
       "      <td>2900 ORLEANS ST. E/B</td>\n",
       "      <td>32</td>\n",
       "      <td>Fixed Speed Camera</td>\n",
       "      <td>$40.00</td>\n",
       "      <td>...</td>\n",
       "      <td>$40.00</td>\n",
       "      <td>NaN</td>\n",
       "      <td>$40.00</td>\n",
       "      <td>$0.00</td>\n",
       "      <td>03/30/2011</td>\n",
       "      <td>05/07/2013 10:41:00 AM</td>\n",
       "      <td>NaN</td>\n",
       "      <td>NaN</td>\n",
       "      <td>NaN</td>\n",
       "      <td>2900 ORLEANS ST E\\nB Baltimore, MD\\n(39.295874...</td>\n",
       "    </tr>\n",
       "  </tbody>\n",
       "</table>\n",
       "<p>10 rows × 21 columns</p>\n",
       "</div>"
      ],
      "text/plain": [
       "   Citation      Tag ExpMM  ExpYY State  Make                        Address  \\\n",
       "0  85448272  3AC8183    02   13.0    MD  CADI  6100 BLOCK OF OLD HARFORD RD.   \n",
       "1  85444719  8AB6128    09   12.0    MD  ACUR         4200 SINCLAIR LANE W/B   \n",
       "2  85452209   7EHC21    07   11.0    MD  BUIC   4601 LIBERTY HEIGHTS AVE E/B   \n",
       "3  85387397  8AC2640    12   12.0    MD  OLDS           6200 WALTHER AVE N/B   \n",
       "4  85397289  06500TT    10   11.0    MD  INTL            4862 ERDMAN AVE W/B   \n",
       "5  85395333   1FGT79    07   11.0    MD  FORD          5400 PERRING PKWY S/B   \n",
       "6  85427425  6AA3639    08   12.0    MD  FORD           2900 ORLEANS ST. E/B   \n",
       "7  85408532   2ELH79    10   12.0    MD  HOND      3600 NORTHERN PARKWAY W/B   \n",
       "8  85423218  7AA0320    07   12.0    MD  TOYT           2900 ORLEANS ST. E/B   \n",
       "9  85365674   8FMN05    07   12.0    MD  TOYT           2900 ORLEANS ST. E/B   \n",
       "\n",
       "   ViolCode          Description ViolFine  \\\n",
       "0        33  Mobile Speed Camera   $40.00   \n",
       "1        32   Fixed Speed Camera   $40.00   \n",
       "2        32   Fixed Speed Camera   $40.00   \n",
       "3        32   Fixed Speed Camera   $40.00   \n",
       "4        32   Fixed Speed Camera   $40.00   \n",
       "5        32   Fixed Speed Camera   $40.00   \n",
       "6        32   Fixed Speed Camera   $40.00   \n",
       "7        32   Fixed Speed Camera   $40.00   \n",
       "8        32   Fixed Speed Camera   $40.00   \n",
       "9        32   Fixed Speed Camera   $40.00   \n",
       "\n",
       "                         ...                         Balance PenaltyDate  \\\n",
       "0                        ...                          $40.00         NaN   \n",
       "1                        ...                          $40.00         NaN   \n",
       "2                        ...                          $40.00         NaN   \n",
       "3                        ...                          $65.00         NaN   \n",
       "4                        ...                          $65.00         NaN   \n",
       "5                        ...                          $40.00         NaN   \n",
       "6                        ...                          $40.00         NaN   \n",
       "7                        ...                          $65.00         NaN   \n",
       "8                        ...                          $40.00         NaN   \n",
       "9                        ...                          $40.00         NaN   \n",
       "\n",
       "   OpenFine OpenPenalty  NoticeDate              ImportDate Neighborhood  \\\n",
       "0    $40.00       $0.00  04/20/2011  05/07/2013 10:41:00 AM          NaN   \n",
       "1    $40.00       $0.00  04/20/2011  05/07/2013 10:41:00 AM          NaN   \n",
       "2    $40.00       $0.00  04/20/2011  05/07/2013 10:41:00 AM          NaN   \n",
       "3    $40.00      $25.00  04/20/2011  05/07/2013 10:41:00 AM          NaN   \n",
       "4    $40.00      $25.00  04/20/2011  05/07/2013 10:41:00 AM          NaN   \n",
       "5    $40.00       $0.00  04/13/2011  05/07/2013 10:41:00 AM          NaN   \n",
       "6    $40.00       $0.00  04/20/2011  05/07/2013 10:41:00 AM          NaN   \n",
       "7    $40.00      $25.00  04/20/2011  05/07/2013 10:41:00 AM          NaN   \n",
       "8    $40.00       $0.00  04/20/2011  05/07/2013 10:41:00 AM          NaN   \n",
       "9    $40.00       $0.00  03/30/2011  05/07/2013 10:41:00 AM          NaN   \n",
       "\n",
       "  PoliceDistrict CouncilDistrict  \\\n",
       "0            NaN             NaN   \n",
       "1            NaN             NaN   \n",
       "2            NaN             NaN   \n",
       "3            NaN             NaN   \n",
       "4            NaN             NaN   \n",
       "5            NaN             NaN   \n",
       "6            NaN             NaN   \n",
       "7            NaN             NaN   \n",
       "8            NaN             NaN   \n",
       "9            NaN             NaN   \n",
       "\n",
       "                                            Location  \n",
       "0  6100 BLOCK OF OLD HARFORD RD\\nBaltimore, MD\\n(...  \n",
       "1  4200 SINCLAIR LANE W\\nB Baltimore, MD\\n(39.316...  \n",
       "2  4601 LIBERTY HEIGHTS AVE E\\nB Baltimore, MD\\n(...  \n",
       "3  6200 WALTHER AVE N\\nB Baltimore, MD\\n(39.35130...  \n",
       "4  4862 ERDMAN AVE W\\nB Baltimore, MD\\n(39.307075...  \n",
       "5  5400 PERRING PKWY S\\nB Baltimore, MD\\n(39.3539...  \n",
       "6  2900 ORLEANS ST E\\nB Baltimore, MD\\n(39.295874...  \n",
       "7  3600 NORTHERN PARKWAY W\\nB Baltimore, MD\\n(39....  \n",
       "8  2900 ORLEANS ST E\\nB Baltimore, MD\\n(39.295874...  \n",
       "9  2900 ORLEANS ST E\\nB Baltimore, MD\\n(39.295874...  \n",
       "\n",
       "[10 rows x 21 columns]"
      ]
     },
     "execution_count": 3,
     "metadata": {},
     "output_type": "execute_result"
    }
   ],
   "source": [
    "#view the top 10 rows of our dataframe\n",
    "df.head(10)"
   ]
  },
  {
   "cell_type": "markdown",
   "metadata": {},
   "source": [
    "As we can see, this gives us a lot of information about the parking citations in Baltimore City. To see all of the column headers (data labels) and give us a better idea of what data we're looking at, we can look at a list of the colum headers with"
   ]
  },
  {
   "cell_type": "code",
   "execution_count": 4,
   "metadata": {},
   "outputs": [
    {
     "data": {
      "text/plain": [
       "['Citation',\n",
       " 'Tag',\n",
       " 'ExpMM',\n",
       " 'ExpYY',\n",
       " 'State',\n",
       " 'Make',\n",
       " 'Address',\n",
       " 'ViolCode',\n",
       " 'Description',\n",
       " 'ViolFine',\n",
       " 'ViolDate',\n",
       " 'Balance',\n",
       " 'PenaltyDate',\n",
       " 'OpenFine',\n",
       " 'OpenPenalty',\n",
       " 'NoticeDate',\n",
       " 'ImportDate',\n",
       " 'Neighborhood',\n",
       " 'PoliceDistrict',\n",
       " 'CouncilDistrict',\n",
       " 'Location']"
      ]
     },
     "execution_count": 4,
     "metadata": {},
     "output_type": "execute_result"
    }
   ],
   "source": [
    "column_names=df.columns.tolist()\n",
    "column_names"
   ]
  },
  {
   "cell_type": "code",
   "execution_count": 5,
   "metadata": {
    "scrolled": true
   },
   "outputs": [
    {
     "name": "stdout",
     "output_type": "stream",
     "text": [
      "<class 'pandas.core.frame.DataFrame'>\n",
      "RangeIndex: 2023638 entries, 0 to 2023637\n",
      "Data columns (total 21 columns):\n",
      "Citation           int64\n",
      "Tag                object\n",
      "ExpMM              object\n",
      "ExpYY              float64\n",
      "State              object\n",
      "Make               object\n",
      "Address            object\n",
      "ViolCode           int64\n",
      "Description        object\n",
      "ViolFine           object\n",
      "ViolDate           object\n",
      "Balance            object\n",
      "PenaltyDate        float64\n",
      "OpenFine           object\n",
      "OpenPenalty        object\n",
      "NoticeDate         object\n",
      "ImportDate         object\n",
      "Neighborhood       object\n",
      "PoliceDistrict     object\n",
      "CouncilDistrict    float64\n",
      "Location           object\n",
      "dtypes: float64(3), int64(2), object(16)\n",
      "memory usage: 324.2+ MB\n"
     ]
    }
   ],
   "source": [
    "df.info()"
   ]
  },
  {
   "cell_type": "code",
   "execution_count": 6,
   "metadata": {},
   "outputs": [],
   "source": [
    "df['ViolDate'] = pd.to_datetime(df['ViolDate'])"
   ]
  },
  {
   "cell_type": "code",
   "execution_count": 7,
   "metadata": {
    "collapsed": true
   },
   "outputs": [],
   "source": [
    "#make columns that list year, month, day, date, and hour of each parking citation\n",
    "\n",
    "df['year']=df.ViolDate.dt.year #makes a new column with only the year\n",
    "df['month']=df.ViolDate.dt.month #makes a new column with only the month\n",
    "df['date']=df.ViolDate.dt.date #makes a new column with only the date\n",
    "df['hour']=df.ViolDate.dt.hour #makes a new column with only the hour\n",
    "df['day_number']=df.ViolDate.dt.dayofweek #makes a new column with only the day of the week number (0=Sunday, 6=Saturday)\n",
    "df['day_name']=df.ViolDate.dt.weekday_name #make a new columns with the weekday name\n",
    "df['time']=df.ViolDate.dt.time #make a new columns with the time"
   ]
  },
  {
   "cell_type": "code",
   "execution_count": 8,
   "metadata": {
    "scrolled": true
   },
   "outputs": [
    {
     "data": {
      "text/html": [
       "<div>\n",
       "<style>\n",
       "    .dataframe thead tr:only-child th {\n",
       "        text-align: right;\n",
       "    }\n",
       "\n",
       "    .dataframe thead th {\n",
       "        text-align: left;\n",
       "    }\n",
       "\n",
       "    .dataframe tbody tr th {\n",
       "        vertical-align: top;\n",
       "    }\n",
       "</style>\n",
       "<table border=\"1\" class=\"dataframe\">\n",
       "  <thead>\n",
       "    <tr style=\"text-align: right;\">\n",
       "      <th></th>\n",
       "      <th>Citation</th>\n",
       "      <th>Tag</th>\n",
       "      <th>ExpMM</th>\n",
       "      <th>ExpYY</th>\n",
       "      <th>State</th>\n",
       "      <th>Make</th>\n",
       "      <th>Address</th>\n",
       "      <th>ViolCode</th>\n",
       "      <th>Description</th>\n",
       "      <th>ViolFine</th>\n",
       "      <th>...</th>\n",
       "      <th>PoliceDistrict</th>\n",
       "      <th>CouncilDistrict</th>\n",
       "      <th>Location</th>\n",
       "      <th>year</th>\n",
       "      <th>month</th>\n",
       "      <th>date</th>\n",
       "      <th>hour</th>\n",
       "      <th>day_number</th>\n",
       "      <th>day_name</th>\n",
       "      <th>time</th>\n",
       "    </tr>\n",
       "  </thead>\n",
       "  <tbody>\n",
       "    <tr>\n",
       "      <th>0</th>\n",
       "      <td>85448272</td>\n",
       "      <td>3AC8183</td>\n",
       "      <td>02</td>\n",
       "      <td>13.0</td>\n",
       "      <td>MD</td>\n",
       "      <td>CADI</td>\n",
       "      <td>6100 BLOCK OF OLD HARFORD RD.</td>\n",
       "      <td>33</td>\n",
       "      <td>Mobile Speed Camera</td>\n",
       "      <td>$40.00</td>\n",
       "      <td>...</td>\n",
       "      <td>NaN</td>\n",
       "      <td>NaN</td>\n",
       "      <td>6100 BLOCK OF OLD HARFORD RD\\nBaltimore, MD\\n(...</td>\n",
       "      <td>2011.0</td>\n",
       "      <td>3.0</td>\n",
       "      <td>2011-03-14</td>\n",
       "      <td>10.0</td>\n",
       "      <td>0.0</td>\n",
       "      <td>Monday</td>\n",
       "      <td>10:57:00</td>\n",
       "    </tr>\n",
       "    <tr>\n",
       "      <th>1</th>\n",
       "      <td>85444719</td>\n",
       "      <td>8AB6128</td>\n",
       "      <td>09</td>\n",
       "      <td>12.0</td>\n",
       "      <td>MD</td>\n",
       "      <td>ACUR</td>\n",
       "      <td>4200 SINCLAIR LANE W/B</td>\n",
       "      <td>32</td>\n",
       "      <td>Fixed Speed Camera</td>\n",
       "      <td>$40.00</td>\n",
       "      <td>...</td>\n",
       "      <td>NaN</td>\n",
       "      <td>NaN</td>\n",
       "      <td>4200 SINCLAIR LANE W\\nB Baltimore, MD\\n(39.316...</td>\n",
       "      <td>2011.0</td>\n",
       "      <td>3.0</td>\n",
       "      <td>2011-03-14</td>\n",
       "      <td>11.0</td>\n",
       "      <td>0.0</td>\n",
       "      <td>Monday</td>\n",
       "      <td>11:52:00</td>\n",
       "    </tr>\n",
       "    <tr>\n",
       "      <th>2</th>\n",
       "      <td>85452209</td>\n",
       "      <td>7EHC21</td>\n",
       "      <td>07</td>\n",
       "      <td>11.0</td>\n",
       "      <td>MD</td>\n",
       "      <td>BUIC</td>\n",
       "      <td>4601 LIBERTY HEIGHTS AVE E/B</td>\n",
       "      <td>32</td>\n",
       "      <td>Fixed Speed Camera</td>\n",
       "      <td>$40.00</td>\n",
       "      <td>...</td>\n",
       "      <td>NaN</td>\n",
       "      <td>NaN</td>\n",
       "      <td>4601 LIBERTY HEIGHTS AVE E\\nB Baltimore, MD\\n(...</td>\n",
       "      <td>2011.0</td>\n",
       "      <td>3.0</td>\n",
       "      <td>2011-03-14</td>\n",
       "      <td>14.0</td>\n",
       "      <td>0.0</td>\n",
       "      <td>Monday</td>\n",
       "      <td>14:54:00</td>\n",
       "    </tr>\n",
       "    <tr>\n",
       "      <th>3</th>\n",
       "      <td>85387397</td>\n",
       "      <td>8AC2640</td>\n",
       "      <td>12</td>\n",
       "      <td>12.0</td>\n",
       "      <td>MD</td>\n",
       "      <td>OLDS</td>\n",
       "      <td>6200 WALTHER AVE N/B</td>\n",
       "      <td>32</td>\n",
       "      <td>Fixed Speed Camera</td>\n",
       "      <td>$40.00</td>\n",
       "      <td>...</td>\n",
       "      <td>NaN</td>\n",
       "      <td>NaN</td>\n",
       "      <td>6200 WALTHER AVE N\\nB Baltimore, MD\\n(39.35130...</td>\n",
       "      <td>2011.0</td>\n",
       "      <td>3.0</td>\n",
       "      <td>2011-03-08</td>\n",
       "      <td>9.0</td>\n",
       "      <td>1.0</td>\n",
       "      <td>Tuesday</td>\n",
       "      <td>09:21:00</td>\n",
       "    </tr>\n",
       "    <tr>\n",
       "      <th>4</th>\n",
       "      <td>85397289</td>\n",
       "      <td>06500TT</td>\n",
       "      <td>10</td>\n",
       "      <td>11.0</td>\n",
       "      <td>MD</td>\n",
       "      <td>INTL</td>\n",
       "      <td>4862 ERDMAN AVE W/B</td>\n",
       "      <td>32</td>\n",
       "      <td>Fixed Speed Camera</td>\n",
       "      <td>$40.00</td>\n",
       "      <td>...</td>\n",
       "      <td>NaN</td>\n",
       "      <td>NaN</td>\n",
       "      <td>4862 ERDMAN AVE W\\nB Baltimore, MD\\n(39.307075...</td>\n",
       "      <td>2011.0</td>\n",
       "      <td>3.0</td>\n",
       "      <td>2011-03-08</td>\n",
       "      <td>17.0</td>\n",
       "      <td>1.0</td>\n",
       "      <td>Tuesday</td>\n",
       "      <td>17:18:00</td>\n",
       "    </tr>\n",
       "  </tbody>\n",
       "</table>\n",
       "<p>5 rows × 28 columns</p>\n",
       "</div>"
      ],
      "text/plain": [
       "   Citation      Tag ExpMM  ExpYY State  Make                        Address  \\\n",
       "0  85448272  3AC8183    02   13.0    MD  CADI  6100 BLOCK OF OLD HARFORD RD.   \n",
       "1  85444719  8AB6128    09   12.0    MD  ACUR         4200 SINCLAIR LANE W/B   \n",
       "2  85452209   7EHC21    07   11.0    MD  BUIC   4601 LIBERTY HEIGHTS AVE E/B   \n",
       "3  85387397  8AC2640    12   12.0    MD  OLDS           6200 WALTHER AVE N/B   \n",
       "4  85397289  06500TT    10   11.0    MD  INTL            4862 ERDMAN AVE W/B   \n",
       "\n",
       "   ViolCode          Description ViolFine    ...    PoliceDistrict  \\\n",
       "0        33  Mobile Speed Camera   $40.00    ...               NaN   \n",
       "1        32   Fixed Speed Camera   $40.00    ...               NaN   \n",
       "2        32   Fixed Speed Camera   $40.00    ...               NaN   \n",
       "3        32   Fixed Speed Camera   $40.00    ...               NaN   \n",
       "4        32   Fixed Speed Camera   $40.00    ...               NaN   \n",
       "\n",
       "  CouncilDistrict                                           Location    year  \\\n",
       "0             NaN  6100 BLOCK OF OLD HARFORD RD\\nBaltimore, MD\\n(...  2011.0   \n",
       "1             NaN  4200 SINCLAIR LANE W\\nB Baltimore, MD\\n(39.316...  2011.0   \n",
       "2             NaN  4601 LIBERTY HEIGHTS AVE E\\nB Baltimore, MD\\n(...  2011.0   \n",
       "3             NaN  6200 WALTHER AVE N\\nB Baltimore, MD\\n(39.35130...  2011.0   \n",
       "4             NaN  4862 ERDMAN AVE W\\nB Baltimore, MD\\n(39.307075...  2011.0   \n",
       "\n",
       "  month        date  hour day_number day_name      time  \n",
       "0   3.0  2011-03-14  10.0        0.0   Monday  10:57:00  \n",
       "1   3.0  2011-03-14  11.0        0.0   Monday  11:52:00  \n",
       "2   3.0  2011-03-14  14.0        0.0   Monday  14:54:00  \n",
       "3   3.0  2011-03-08   9.0        1.0  Tuesday  09:21:00  \n",
       "4   3.0  2011-03-08  17.0        1.0  Tuesday  17:18:00  \n",
       "\n",
       "[5 rows x 28 columns]"
      ]
     },
     "execution_count": 8,
     "metadata": {},
     "output_type": "execute_result"
    }
   ],
   "source": [
    "df.head()"
   ]
  },
  {
   "cell_type": "markdown",
   "metadata": {},
   "source": [
    "Now that we've organized some of our data, we can create some visuals to get an idea of what this data tells us. We have a lot of numbers and a lot of different columns--what are some ways that we might want to categorize the data? What are some questions that we want to answer with the data? What will be the best way to show this?"
   ]
  },
  {
   "cell_type": "markdown",
   "metadata": {},
   "source": [
    "# Making a Bar Graph"
   ]
  },
  {
   "cell_type": "markdown",
   "metadata": {},
   "source": [
    "__Bar graphs__ are helpful because we can quickly group our data into categories and compare these groups in a picture-like format. This gives us a fast way to compare different groups (example: how many of each car model received parking violations) or trends across the same group (example: how many Toyotas received parking violations every year?). \n",
    "<br><br>\n",
    "We can easily make a bar graph with the __seaborn__ package that we installed above with the following:"
   ]
  },
  {
   "cell_type": "code",
   "execution_count": 9,
   "metadata": {},
   "outputs": [
    {
     "data": {
      "text/plain": [
       "Text(0.5,1,'Number of Cars that Received Parking Citations by Make in Baltimore City, 2016')"
      ]
     },
     "execution_count": 9,
     "metadata": {},
     "output_type": "execute_result"
    },
    {
     "data": {
      "image/png": "[encoded data removed]",
      "text/plain": [
       "<matplotlib.figure.Figure at 0x1a366fee10>"
      ]
     },
     "metadata": {},
     "output_type": "display_data"
    }
   ],
   "source": [
    "df_16 = df[df['year']==2016] #creating a new dataframe with only the 2016 parking violation data\n",
    "\n",
    "#a seaborn factorplot will automatically count the number of items in each category and plot it for us in a bar graph\n",
    "\n",
    "g=sns.factorplot(x='Make', #here we define the x-axis with the Column Title; here we're looking at the number of each Make\n",
    "               data=df_16, #here we define which dataset we are going to use (we created a new dataset above with only 2016 data)\n",
    "               kind='count', #this is the kind of factorplot we're going to make--counting the number in each category\n",
    "               order=df_16.Make.value_counts().iloc[:20].index, #here we say that we're only going to plot the top 20 categories \n",
    "                 #try to make this graph without the above line to see why we'd do this!\n",
    "               size=6, #here we resize the graph so that we can see the results better\n",
    "               aspect=1.5) #play around with the size and aspect to see what might show the data the best!\n",
    "\n",
    "g.set_xticklabels(rotation=30) #here we rotate the x-axis labels so that we can read the names\n",
    "plt.title('Number of Cars that Received Parking Citations by Make in Baltimore City, 2016') #here we add a title for the graph"
   ]
  },
  {
   "cell_type": "markdown",
   "metadata": {},
   "source": [
    "What does this bar graph tell us about the parking citations issued in 2016? Who would want to know this information? What additional data might we want to compare and look at to come up with findings?"
   ]
  },
  {
   "cell_type": "markdown",
   "metadata": {},
   "source": [
    "## What other categories can we make a count bar chart with?"
   ]
  },
  {
   "cell_type": "markdown",
   "metadata": {},
   "source": [
    "Copy and paste the above cell to make a bar chart with new category information:"
   ]
  },
  {
   "cell_type": "code",
   "execution_count": 10,
   "metadata": {
    "collapsed": true
   },
   "outputs": [],
   "source": [
    "#Copy, paste, and edit the code below to make your own bar chart:\n",
    "\n",
    "\n",
    "\n"
   ]
  },
  {
   "cell_type": "markdown",
   "metadata": {},
   "source": [
    "# Making a Line Graph"
   ]
  },
  {
   "cell_type": "markdown",
   "metadata": {},
   "source": [
    "__Line graphs__ are helpful because we are able to see trends across our data (example: do the number of citations change throughout a given year or month?).\n",
    "<br><br>\n",
    "We can easily make line graphs in __seaborn__ with the following:"
   ]
  },
  {
   "cell_type": "code",
   "execution_count": 11,
   "metadata": {},
   "outputs": [
    {
     "data": {
      "text/plain": [
       "Text(0.5,1,'Number of Parking Citations Per Year in Baltimore City')"
      ]
     },
     "execution_count": 11,
     "metadata": {},
     "output_type": "execute_result"
    },
    {
     "data": {
      "image/png": "[encoded data removed]",
      "text/plain": [
       "<matplotlib.figure.Figure at 0x1a12f637b8>"
      ]
     },
     "metadata": {},
     "output_type": "display_data"
    }
   ],
   "source": [
    "#first, we'll make a new dataframe with our data that counts and combines the number of citations recorded each year\n",
    "\n",
    "year_count = df.groupby('year', as_index=False).agg({\"Citation\": \"count\"})\n",
    "\n",
    "#then we'll make a line graph that plots the year on the x-axis and the count on the y-axis\n",
    "#the trend line will give us an idea of how the number of citations changes from year to year\n",
    "l = sns.factorplot(data=year_count, #we're using the new dataset from above\n",
    "                   x='year', #our x-axis is the year column\n",
    "                   y='Citation', #our y-axis is the Citation count column\n",
    "                   size=7, aspect=1.5) #we re-size the plot size to see it better\n",
    "\n",
    "l.set_xticklabels(rotation=30) #here we rotate the x-axis labels so that we can read the names\n",
    "plt.title('Number of Parking Citations Per Year in Baltimore City') #here we add a title for the graph"
   ]
  },
  {
   "cell_type": "markdown",
   "metadata": {},
   "source": [
    "What does this plot tell us about the data? Why might there be a huge increase in parking citations starting in 2015?"
   ]
  },
  {
   "cell_type": "markdown",
   "metadata": {},
   "source": [
    "## What other parts of our data can we compare in line graph trends?"
   ]
  },
  {
   "cell_type": "markdown",
   "metadata": {},
   "source": [
    "Copy and paste the above cell to make a heatmap chart with new category information:"
   ]
  },
  {
   "cell_type": "code",
   "execution_count": 12,
   "metadata": {
    "collapsed": true
   },
   "outputs": [],
   "source": [
    "#Copy, paste, and edit the code below to make your own heatmap chart:\n",
    "\n",
    "\n",
    "\n"
   ]
  },
  {
   "cell_type": "code",
   "execution_count": null,
   "metadata": {
    "collapsed": true
   },
   "outputs": [],
   "source": []
  },
  {
   "cell_type": "code",
   "execution_count": null,
   "metadata": {
    "collapsed": true
   },
   "outputs": [],
   "source": []
  },
  {
   "cell_type": "code",
   "execution_count": null,
   "metadata": {
    "collapsed": true
   },
   "outputs": [],
   "source": []
  },
  {
   "cell_type": "markdown",
   "metadata": {},
   "source": [
    "# Making a Heatmap"
   ]
  },
  {
   "cell_type": "markdown",
   "metadata": {},
   "source": [
    "__Heatmaps__ are helpful because we can see a distribution by volume in a given dataset. This can help us get a big-picture view of concentrated and non-concentrated pockets of information (example: which days of the week had the most citations given each year?) \n",
    "<br><br>\n",
    "We can easily make scatterplots in __seaborn__ with the following:"
   ]
  },
  {
   "cell_type": "code",
   "execution_count": 13,
   "metadata": {
    "scrolled": true
   },
   "outputs": [],
   "source": [
    "#we're going to create a heatmap to compare the number of citations in each day-of-the-week/year combination\n",
    "#to see if citations are handed out more frequently on any day of the week \n",
    "\n",
    "#create a new dataframe that includes the year and day of week, and add a new column that counts the number of \n",
    "#citations in that day-year combination\n",
    "heatmap_data= df.groupby(['year', 'day_name']).size().reset_index(name='counts') \n",
    "\n",
    "#make a list of the years that we want to look at\n",
    "years=[2008, 2009, 2010, 2011, 2012, 2013, 2014, 2015, 2016, 2017, 2018]\n",
    "\n",
    "#filter the data so that we only include info from the dataframe in our list of years\n",
    "heatmap_data = heatmap_data.loc[heatmap_data['year'].isin(years)]"
   ]
  },
  {
   "cell_type": "code",
   "execution_count": 14,
   "metadata": {
    "scrolled": false
   },
   "outputs": [
    {
     "data": {
      "text/plain": [
       "<matplotlib.axes._subplots.AxesSubplot at 0x1a3688e1d0>"
      ]
     },
     "execution_count": 14,
     "metadata": {},
     "output_type": "execute_result"
    },
    {
     "data": {
      "image/png": "[encoded data removed]",
      "text/plain": [
       "<matplotlib.figure.Figure at 0x1a3685bcf8>"
      ]
     },
     "metadata": {},
     "output_type": "display_data"
    }
   ],
   "source": [
    "#reframe the data so that it looks like the heatmap\n",
    "#(type out data in a new cell and run it to see what this looks like!)\n",
    "data = pd.pivot_table(heatmap_data, index='day_name',columns='year',values='counts')\n",
    "\n",
    "#sort dataframe so that our days of the week are in order\n",
    "data= data.sort_index(axis=0)\n",
    "\n",
    "#re-size the dataframe so that we can read the numbers and axis titles\n",
    "plt.figure(figsize = (20,10))\n",
    "\n",
    "#plot the data with the seaborn heatmap function; the fmt='g' makes it so our numbers aren't in scientific notation\n",
    "sns.heatmap(data, annot=True, linewidths=0.5, fmt='g')"
   ]
  },
  {
   "cell_type": "markdown",
   "metadata": {},
   "source": [
    "Do any days of the week get more citations than the rest? What does our data over the years look like?"
   ]
  },
  {
   "cell_type": "markdown",
   "metadata": {},
   "source": [
    "## What other columns can we compare for new heatmaps?"
   ]
  },
  {
   "cell_type": "markdown",
   "metadata": {},
   "source": [
    "Copy and paste the above cell to make a heatmap chart with new category information:"
   ]
  },
  {
   "cell_type": "code",
   "execution_count": 15,
   "metadata": {
    "collapsed": true
   },
   "outputs": [],
   "source": [
    "#Copy, paste, and edit the code below to make your own heatmap chart:\n",
    "\n",
    "\n",
    "\n"
   ]
  },
  {
   "cell_type": "code",
   "execution_count": null,
   "metadata": {
    "collapsed": true
   },
   "outputs": [],
   "source": []
  },
  {
   "cell_type": "code",
   "execution_count": null,
   "metadata": {
    "collapsed": true
   },
   "outputs": [],
   "source": []
  },
  {
   "cell_type": "code",
   "execution_count": null,
   "metadata": {
    "collapsed": true
   },
   "outputs": [],
   "source": []
  },
  {
   "cell_type": "code",
   "execution_count": null,
   "metadata": {
    "collapsed": true
   },
   "outputs": [],
   "source": []
  },
  {
   "cell_type": "code",
   "execution_count": null,
   "metadata": {
    "collapsed": true
   },
   "outputs": [],
   "source": []
  }
 ],
 "metadata": {
  "kernelspec": {
   "display_name": "Python 3",
   "language": "python",
   "name": "python3"
  },
  "language_info": {
   "codemirror_mode": {
    "name": "ipython",
    "version": 3
   },
   "file_extension": ".py",
   "mimetype": "text/x-python",
   "name": "python",
   "nbconvert_exporter": "python",
   "pygments_lexer": "ipython3",
   "version": "3.6.3"
  }
 },
 "nbformat": 4,
 "nbformat_minor": 2
}
